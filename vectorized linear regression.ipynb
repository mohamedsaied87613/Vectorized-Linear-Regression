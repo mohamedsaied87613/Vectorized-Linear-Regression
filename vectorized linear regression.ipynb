{
 "cells": [
  {
   "cell_type": "code",
   "execution_count": 86,
   "metadata": {
    "collapsed": true
   },
   "outputs": [],
   "source": [
    "import numpy as np\n",
    "import matplotlib.pyplot as plt"
   ]
  },
  {
   "cell_type": "code",
   "execution_count": 87,
   "outputs": [],
   "source": [
    "x = np.random.randint(low=-10,high=10,size=(5,3))\n",
    "y = np.array([\n",
    "    [1],\n",
    "    [1],\n",
    "    [1],\n",
    "    [1],\n",
    "    [0]\n",
    "])"
   ],
   "metadata": {
    "collapsed": false
   }
  },
  {
   "cell_type": "code",
   "execution_count": 88,
   "outputs": [],
   "source": [
    "bias = np.ones( shape=(x.shape[0],1) )\n",
    "theta = np.zeros(shape=(x.shape[1]+1,1))+1000\n",
    "x = np.concatenate((bias,x),axis=1)"
   ],
   "metadata": {
    "collapsed": false
   }
  },
  {
   "cell_type": "code",
   "execution_count": 89,
   "outputs": [],
   "source": [
    "def estimate_cost(x,y,theta):  #COST FUNCTION (MSE)\n",
    "    const=1/(2*x.shape[0])\n",
    "    x_theta=np.matmul(x,theta)\n",
    "    return const * np.matmul(np.transpose(x_theta-y),(x_theta-y))"
   ],
   "metadata": {
    "collapsed": false
   }
  },
  {
   "cell_type": "code",
   "execution_count": 90,
   "outputs": [
    {
     "data": {
      "text/plain": "array([[11501000.4]])"
     },
     "execution_count": 90,
     "metadata": {},
     "output_type": "execute_result"
    }
   ],
   "source": [
    "estimate_cost(x,y,theta)"
   ],
   "metadata": {
    "collapsed": false
   }
  },
  {
   "cell_type": "code",
   "execution_count": 91,
   "outputs": [],
   "source": [
    "def normal_form(x,y):     #ANALATICAL METHOD TO GET PARAMETERS IN ONE STEP\n",
    "    #try inverse in case (X.T)(X) IS SINGULAR\n",
    "    try:\n",
    "        nf=np.linalg.inv(np.matmul(np.transpose(x),x))\n",
    "    except:\n",
    "        nf=np.linalg.pinv(np.matmul(np.transpose(x),x))\n",
    "    nf=np.matmul(nf,np.transpose(x))\n",
    "    nf=np.matmul(nf,y)\n",
    "    return nf"
   ],
   "metadata": {
    "collapsed": false
   }
  },
  {
   "cell_type": "code",
   "execution_count": 93,
   "outputs": [
    {
     "data": {
      "text/plain": "array([[0.04959003]])"
     },
     "execution_count": 93,
     "metadata": {},
     "output_type": "execute_result"
    }
   ],
   "source": [
    "theta=normal_form(x,y)\n",
    "estimate_cost(x,y,theta)"
   ],
   "metadata": {
    "collapsed": false
   }
  }
 ],
 "metadata": {
  "kernelspec": {
   "display_name": "Python 3",
   "language": "python",
   "name": "python3"
  },
  "language_info": {
   "codemirror_mode": {
    "name": "ipython",
    "version": 2
   },
   "file_extension": ".py",
   "mimetype": "text/x-python",
   "name": "python",
   "nbconvert_exporter": "python",
   "pygments_lexer": "ipython2",
   "version": "2.7.6"
  }
 },
 "nbformat": 4,
 "nbformat_minor": 0
}
